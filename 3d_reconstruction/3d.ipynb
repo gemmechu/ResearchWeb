{
 "cells": [
  {
   "cell_type": "code",
   "execution_count": 1,
   "metadata": {},
   "outputs": [],
   "source": [
    "import igl\n",
    "import meshplot as mp\n",
    "import glob\n",
    "import  numpy as np"
   ]
  },
  {
   "cell_type": "code",
   "execution_count": 3,
   "metadata": {},
   "outputs": [
    {
     "data": {
      "application/vnd.jupyter.widget-view+json": {
       "model_id": "f5c45e785b77423e955eb09f0650a9b8",
       "version_major": 2,
       "version_minor": 0
      },
      "text/plain": [
       "Renderer(camera=PerspectiveCamera(children=(DirectionalLight(color='white', intensity=0.6, position=(0.0435180…"
      ]
     },
     "metadata": {},
     "output_type": "display_data"
    },
    {
     "name": "stdout",
     "output_type": "stream",
     "text": [
      "Plot saved to file data/part1/minion/minion_00010000.html.\n"
     ]
    }
   ],
   "source": [
    "def make_html(fname):\n",
    "    v,f = igl.read_triangle_mesh(fname)\n",
    "    gray =np.full(f.shape, 0.51)\n",
    "    mp.plot(v,f,c=gray).save('data/part1/minion/'+fname.split('/')[-1].split('.')[0] +'.html')\n",
    "\n",
    "files =[\n",
    " 'superman_00010000'] \n",
    " \n",
    "fname = \"data/part1/minion/minion_00010000.ply\"\n",
    "make_html(fname)\n",
    "files = glob.glob('../pcpnet/data/internet_mesh_smooth/*.ply')\n",
    "for file in files:\n",
    "#     # fname = file.split('/')[-1].split('.')[0]\n",
    "    \n",
    "    file  = \"data/temp/\"+file+'.obj'\n",
    "    a = make_html(file)\n",
    "    \n",
    "\n",
    "# for file in files:\n",
    "#     # file = '../pcpnet/data/noisy/'+file.split('/')[-1]\n",
    "#     # print('data/week2/'+file.split('/')[-1].split('.')[0])\n",
    "    \n",
    "#     make_html(file)\n",
    "# files\n",
    "# fname = '../output/meshes_bouncing_mesh_0020_ctg_3.obj'"
   ]
  },
  {
   "cell_type": "code",
   "execution_count": 2,
   "metadata": {},
   "outputs": [
    {
     "name": "stdout",
     "output_type": "stream",
     "text": [
      "<table>\n",
      "<tr>\n",
      "<td><img src=\"/Users/gemmechu/Documents/Research/ResearchWeb/3d_reconstruction/data/part2/two_cars/zoomed_out/0006.png\" alt=\"0006.png\" width=\"200\"></td>\n",
      "<td><img src=\"/Users/gemmechu/Documents/Research/ResearchWeb/3d_reconstruction/data/part2/two_cars/zoomed_out/0012.png\" alt=\"0012.png\" width=\"200\"></td>\n",
      "<td><img src=\"/Users/gemmechu/Documents/Research/ResearchWeb/3d_reconstruction/data/part2/two_cars/zoomed_out/0007.png\" alt=\"0007.png\" width=\"200\"></td>\n",
      "<td><img src=\"/Users/gemmechu/Documents/Research/ResearchWeb/3d_reconstruction/data/part2/two_cars/zoomed_out/0011.png\" alt=\"0011.png\" width=\"200\"></td>\n",
      "</tr>\n",
      "<tr>\n",
      "<td><img src=\"/Users/gemmechu/Documents/Research/ResearchWeb/3d_reconstruction/data/part2/two_cars/zoomed_out/0005.png\" alt=\"0005.png\" width=\"200\"></td>\n",
      "<td><img src=\"/Users/gemmechu/Documents/Research/ResearchWeb/3d_reconstruction/data/part2/two_cars/zoomed_out/0004.png\" alt=\"0004.png\" width=\"200\"></td>\n",
      "<td><img src=\"/Users/gemmechu/Documents/Research/ResearchWeb/3d_reconstruction/data/part2/two_cars/zoomed_out/0010.png\" alt=\"0010.png\" width=\"200\"></td>\n",
      "<td><img src=\"/Users/gemmechu/Documents/Research/ResearchWeb/3d_reconstruction/data/part2/two_cars/zoomed_out/0001.png\" alt=\"0001.png\" width=\"200\"></td>\n",
      "</tr>\n",
      "<tr>\n",
      "<td><img src=\"/Users/gemmechu/Documents/Research/ResearchWeb/3d_reconstruction/data/part2/two_cars/zoomed_out/0003.png\" alt=\"0003.png\" width=\"200\"></td>\n",
      "<td><img src=\"/Users/gemmechu/Documents/Research/ResearchWeb/3d_reconstruction/data/part2/two_cars/zoomed_out/0002.png\" alt=\"0002.png\" width=\"200\"></td>\n",
      "<td><img src=\"/Users/gemmechu/Documents/Research/ResearchWeb/3d_reconstruction/data/part2/two_cars/zoomed_out/0009.png\" alt=\"0009.png\" width=\"200\"></td>\n",
      "<td><img src=\"/Users/gemmechu/Documents/Research/ResearchWeb/3d_reconstruction/data/part2/two_cars/zoomed_out/0008.png\" alt=\"0008.png\" width=\"200\"></td>\n",
      "</tr>\n",
      "</table>\n"
     ]
    }
   ],
   "source": [
    "import os\n",
    "\n",
    "def generate_html_table(dir_path):\n",
    "    # Get a list of all image files in the directory\n",
    "    img_files = [f for f in os.listdir(dir_path) if os.path.isfile(os.path.join(dir_path, f)) and f.lower().endswith(('.png', '.jpg', '.jpeg', '.gif', '.bmp'))]\n",
    "    \n",
    "    # Generate the HTML table\n",
    "    table = '<table>\\n'\n",
    "    for i, img_file in enumerate(img_files):\n",
    "        if i % 4 == 0:\n",
    "            table += '<tr>\\n'\n",
    "        table += '<td><img src=\"{0}\" alt=\"{1}\" width=\"200\"></td>\\n'.format(os.path.join(dir_path, img_file), img_file)\n",
    "        if i % 4 == 3:\n",
    "            table += '</tr>\\n'\n",
    "    if len(img_files) % 4 != 0:\n",
    "        table += '</tr>\\n'\n",
    "    table += '</table>'\n",
    "    \n",
    "    return table\n",
    "\n",
    "# Example usage\n",
    "dir_path = '/Users/gemmechu/Documents/Research/ResearchWeb/3d_reconstruction/data/part2/four_dolls_light1k'\n",
    "html_table = generate_html_table(dir_path)\n",
    "print(html_table)\n"
   ]
  },
  {
   "cell_type": "code",
   "execution_count": 1,
   "metadata": {},
   "outputs": [
    {
     "name": "stdout",
     "output_type": "stream",
     "text": [
      "<h2>Dataset 1</h2>\n",
      "<table>\n",
      "<tr>\n",
      "<td><a href=\"#\" onclick=\"expandImage('/Users/gemmechu/Documents/Research/ResearchWeb/3d_reconstruction/data/part2/four_dolls_light1k/0065.png', '0065.png')\"><img src=\"/Users/gemmechu/Documents/Research/ResearchWeb/3d_reconstruction/data/part2/four_dolls_light1k/0065.png\" alt=\"0065.png\" width=\"400\"></a></td>\n",
      "<td><a href=\"#\" onclick=\"expandImage('/Users/gemmechu/Documents/Research/ResearchWeb/3d_reconstruction/data/part2/four_dolls_light1k/0059.png', '0059.png')\"><img src=\"/Users/gemmechu/Documents/Research/ResearchWeb/3d_reconstruction/data/part2/four_dolls_light1k/0059.png\" alt=\"0059.png\" width=\"400\"></a></td>\n",
      "<td><a href=\"#\" onclick=\"expandImage('/Users/gemmechu/Documents/Research/ResearchWeb/3d_reconstruction/data/part2/four_dolls_light1k/0058.png', '0058.png')\"><img src=\"/Users/gemmechu/Documents/Research/ResearchWeb/3d_reconstruction/data/part2/four_dolls_light1k/0058.png\" alt=\"0058.png\" width=\"400\"></a></td>\n",
      "<td><a href=\"#\" onclick=\"expandImage('/Users/gemmechu/Documents/Research/ResearchWeb/3d_reconstruction/data/part2/four_dolls_light1k/0064.png', '0064.png')\"><img src=\"/Users/gemmechu/Documents/Research/ResearchWeb/3d_reconstruction/data/part2/four_dolls_light1k/0064.png\" alt=\"0064.png\" width=\"400\"></a></td>\n",
      "</tr>\n",
      "<tr>\n",
      "<td><a href=\"#\" onclick=\"expandImage('/Users/gemmechu/Documents/Research/ResearchWeb/3d_reconstruction/data/part2/four_dolls_light1k/0066.png', '0066.png')\"><img src=\"/Users/gemmechu/Documents/Research/ResearchWeb/3d_reconstruction/data/part2/four_dolls_light1k/0066.png\" alt=\"0066.png\" width=\"400\"></a></td>\n",
      "<td><a href=\"#\" onclick=\"expandImage('/Users/gemmechu/Documents/Research/ResearchWeb/3d_reconstruction/data/part2/four_dolls_light1k/0063.png', '0063.png')\"><img src=\"/Users/gemmechu/Documents/Research/ResearchWeb/3d_reconstruction/data/part2/four_dolls_light1k/0063.png\" alt=\"0063.png\" width=\"400\"></a></td>\n",
      "<td><a href=\"#\" onclick=\"expandImage('/Users/gemmechu/Documents/Research/ResearchWeb/3d_reconstruction/data/part2/four_dolls_light1k/0062.png', '0062.png')\"><img src=\"/Users/gemmechu/Documents/Research/ResearchWeb/3d_reconstruction/data/part2/four_dolls_light1k/0062.png\" alt=\"0062.png\" width=\"400\"></a></td>\n",
      "<td><a href=\"#\" onclick=\"expandImage('/Users/gemmechu/Documents/Research/ResearchWeb/3d_reconstruction/data/part2/four_dolls_light1k/0060.png', '0060.png')\"><img src=\"/Users/gemmechu/Documents/Research/ResearchWeb/3d_reconstruction/data/part2/four_dolls_light1k/0060.png\" alt=\"0060.png\" width=\"400\"></a></td>\n",
      "</tr>\n",
      "<tr>\n",
      "<td><a href=\"#\" onclick=\"expandImage('/Users/gemmechu/Documents/Research/ResearchWeb/3d_reconstruction/data/part2/four_dolls_light1k/0061.png', '0061.png')\"><img src=\"/Users/gemmechu/Documents/Research/ResearchWeb/3d_reconstruction/data/part2/four_dolls_light1k/0061.png\" alt=\"0061.png\" width=\"400\"></a></td>\n",
      "<td><a href=\"#\" onclick=\"expandImage('/Users/gemmechu/Documents/Research/ResearchWeb/3d_reconstruction/data/part2/four_dolls_light1k/0056.png', '0056.png')\"><img src=\"/Users/gemmechu/Documents/Research/ResearchWeb/3d_reconstruction/data/part2/four_dolls_light1k/0056.png\" alt=\"0056.png\" width=\"400\"></a></td>\n",
      "<td><a href=\"#\" onclick=\"expandImage('/Users/gemmechu/Documents/Research/ResearchWeb/3d_reconstruction/data/part2/four_dolls_light1k/0057.png', '0057.png')\"><img src=\"/Users/gemmechu/Documents/Research/ResearchWeb/3d_reconstruction/data/part2/four_dolls_light1k/0057.png\" alt=\"0057.png\" width=\"400\"></a></td>\n",
      "<td><a href=\"#\" onclick=\"expandImage('/Users/gemmechu/Documents/Research/ResearchWeb/3d_reconstruction/data/part2/four_dolls_light1k/0055.png', '0055.png')\"><img src=\"/Users/gemmechu/Documents/Research/ResearchWeb/3d_reconstruction/data/part2/four_dolls_light1k/0055.png\" alt=\"0055.png\" width=\"400\"></a></td>\n",
      "</tr>\n",
      "<tr>\n",
      "<td><a href=\"#\" onclick=\"expandImage('/Users/gemmechu/Documents/Research/ResearchWeb/3d_reconstruction/data/part2/four_dolls_light1k/0054.png', '0054.png')\"><img src=\"/Users/gemmechu/Documents/Research/ResearchWeb/3d_reconstruction/data/part2/four_dolls_light1k/0054.png\" alt=\"0054.png\" width=\"400\"></a></td>\n",
      "</tr>\n",
      "</table>\n",
      "\n",
      "<h4>IRON Stage1 intermediate output</h4>\n",
      "<table>\n",
      "<tr>\n",
      "<td><a href=\"#\" onclick=\"expandImage('/Users/gemmechu/Documents/Research/ResearchWeb/3d_reconstruction/data/part2/four_dolls_light1k/output/00007750_0_19.png', '00007750_0_19.png')\"><img src=\"/Users/gemmechu/Documents/Research/ResearchWeb/3d_reconstruction/data/part2/four_dolls_light1k/output/00007750_0_19.png\" alt=\"00007750_0_19.png\" width=\"400\"></a></td>\n",
      "<td><a href=\"#\" onclick=\"expandImage('/Users/gemmechu/Documents/Research/ResearchWeb/3d_reconstruction/data/part2/four_dolls_light1k/output/00006750_0_31.png', '00006750_0_31.png')\"><img src=\"/Users/gemmechu/Documents/Research/ResearchWeb/3d_reconstruction/data/part2/four_dolls_light1k/output/00006750_0_31.png\" alt=\"00006750_0_31.png\" width=\"400\"></a></td>\n",
      "</tr>\n",
      "</table>\n",
      "\n"
     ]
    }
   ],
   "source": [
    "import os\n",
    "\n",
    "def generate_html_table(dir_path):\n",
    "    # Get a list of all image files in the directory\n",
    "    img_files = [f for f in os.listdir(dir_path) if os.path.isfile(os.path.join(dir_path, f)) and f.lower().endswith(('.png', '.jpg', '.jpeg', '.gif', '.bmp'))]\n",
    "    \n",
    "    # Generate the HTML table\n",
    "    table = '<table>\\n'\n",
    "    for i, img_file in enumerate(img_files):\n",
    "        if i % 4 == 0:\n",
    "            table += '<tr>\\n'\n",
    "        table += '<td><a href=\"#\" onclick=\"expandImage(\\'{0}\\', \\'{1}\\')\"><img src=\"{0}\" alt=\"{1}\" width=\"400\"></a></td>\\n'.format(os.path.join(dir_path, img_file), img_file)\n",
    "        if i % 4 == 3:\n",
    "            table += '</tr>\\n'\n",
    "    if len(img_files) % 4 != 0:\n",
    "        table += '</tr>\\n'\n",
    "    table += '</table>\\n'\n",
    "\n",
    "    # Generate the JavaScript code\n",
    "    # js_code = '<script>\\nfunction expandImage(imgSrc, imgAlt) {\\nvar overlay = document.createElement(\"div\");\\noverlay.style.position = \"fixed\";\\noverlay.style.top = \"0\";\\noverlay.style.left = \"0\";\\noverlay.style.width = \"100%\";\\noverlay.style.height = \"100%\";\\noverlay.style.backgroundColor = \"rgba(0,0,0,0.7)\";\\noverlay.style.display = \"flex\";\\noverlay.style.justifyContent = \"center\";\\noverlay.style.alignItems = \"center\";\\noverlay.onclick = function() {overlay.parentNode.removeChild(overlay);};\\nvar img = document.createElement(\"img\");\\nimg.src = imgSrc;\\nimg.alt = imgAlt;\\nimg.style.maxWidth = \"90%\";\\nimg.style.maxHeight = \"90%\";\\nimg.onclick = function(e) {e.stopPropagation();};\\noverlay.appendChild(img);\\ndocument.body.appendChild(overlay);\\n}\\n</script>'\n",
    "    \n",
    "    # return table + js_code\n",
    "    return table\n",
    "\n",
    "# Example usage\n",
    "print(\"<h2>Dataset 1</h2>\")\n",
    "dir_path = '/Users/gemmechu/Documents/Research/ResearchWeb/3d_reconstruction/data/part2/four_dolls_light1k'\n",
    "html_table = generate_html_table(dir_path)\n",
    "print(html_table)\n",
    "# print(\"<h4>Setup</h4>\")\n",
    "# dir_path = '/Users/gemmechu/Documents/Research/ResearchWeb/3d_reconstruction/data/part2/two_cars_big/setup'\n",
    "# html_table = generate_html_table(dir_path)\n",
    "# print(html_table)\n",
    "print(\"<h4>IRON Stage1 intermediate output</h4>\")\n",
    "dir_path = '/Users/gemmechu/Documents/Research/ResearchWeb/3d_reconstruction/data/part2/four_dolls_light1k/output'\n",
    "html_table = generate_html_table(dir_path)\n",
    "print(html_table)\n"
   ]
  },
  {
   "cell_type": "code",
   "execution_count": null,
   "metadata": {},
   "outputs": [],
   "source": []
  }
 ],
 "metadata": {
  "kernelspec": {
   "display_name": "Python 3.9.12 ('base')",
   "language": "python",
   "name": "python3"
  },
  "language_info": {
   "codemirror_mode": {
    "name": "ipython",
    "version": 3
   },
   "file_extension": ".py",
   "mimetype": "text/x-python",
   "name": "python",
   "nbconvert_exporter": "python",
   "pygments_lexer": "ipython3",
   "version": "3.9.12"
  },
  "orig_nbformat": 4,
  "vscode": {
   "interpreter": {
    "hash": "7f079a34d0c7003b0fada8ddfbac0c347cf906c18fdbbe559734525824491b66"
   }
  }
 },
 "nbformat": 4,
 "nbformat_minor": 2
}
