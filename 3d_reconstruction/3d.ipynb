{
 "cells": [
  {
   "cell_type": "code",
   "execution_count": 3,
   "metadata": {},
   "outputs": [],
   "source": [
    "import igl\n",
    "import meshplot as mp\n",
    "import glob\n",
    "import  numpy as np"
   ]
  },
  {
   "cell_type": "code",
   "execution_count": 4,
   "metadata": {},
   "outputs": [
    {
     "data": {
      "application/vnd.jupyter.widget-view+json": {
       "model_id": "5bc4f6020ee6454999434237339bbf69",
       "version_major": 2,
       "version_minor": 0
      },
      "text/plain": [
       "Renderer(camera=PerspectiveCamera(children=(DirectionalLight(color='white', intensity=0.6, position=(-0.099083…"
      ]
     },
     "metadata": {},
     "output_type": "display_data"
    },
    {
     "name": "stdout",
     "output_type": "stream",
     "text": [
      "Plot saved to file data/part1/superman/superman_00010000.html.\n"
     ]
    }
   ],
   "source": [
    "def make_html(fname):\n",
    "    v,f = igl.read_triangle_mesh(fname)\n",
    "    gray =np.full(f.shape, 0.51)\n",
    "    mp.plot(v,f,c=gray).save('data/part1/superman/'+fname.split('/')[-1].split('.')[0] +'.html')\n",
    "\n",
    "files =[\n",
    " 'superman_00010000'] \n",
    " \n",
    "fname = \"data/part1/superman_00010000.ply\"\n",
    "make_html(fname)\n",
    "# files = glob.glob('../pcpnet/data/internet_mesh_smooth/*.obj')\n",
    "# for file in files:\n",
    "# #     # fname = file.split('/')[-1].split('.')[0]\n",
    "    \n",
    "#     file  = \"data/temp/\"+file+'.obj'\n",
    "#     a = make_html(file)\n",
    "    \n",
    "\n",
    "# for file in files:\n",
    "#     # file = '../pcpnet/data/noisy/'+file.split('/')[-1]\n",
    "#     # print('data/week2/'+file.split('/')[-1].split('.')[0])\n",
    "    \n",
    "#     make_html(file)\n",
    "# files\n",
    "# fname = '../output/meshes_bouncing_mesh_0020_ctg_3.obj'"
   ]
  },
  {
   "cell_type": "code",
   "execution_count": null,
   "metadata": {},
   "outputs": [],
   "source": []
  }
 ],
 "metadata": {
  "kernelspec": {
   "display_name": "Python 3.9.12 ('base')",
   "language": "python",
   "name": "python3"
  },
  "language_info": {
   "codemirror_mode": {
    "name": "ipython",
    "version": 3
   },
   "file_extension": ".py",
   "mimetype": "text/x-python",
   "name": "python",
   "nbconvert_exporter": "python",
   "pygments_lexer": "ipython3",
   "version": "3.9.12"
  },
  "orig_nbformat": 4,
  "vscode": {
   "interpreter": {
    "hash": "7f079a34d0c7003b0fada8ddfbac0c347cf906c18fdbbe559734525824491b66"
   }
  }
 },
 "nbformat": 4,
 "nbformat_minor": 2
}
