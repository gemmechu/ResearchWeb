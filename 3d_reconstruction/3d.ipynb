{
 "cells": [
  {
   "cell_type": "code",
   "execution_count": 1,
   "metadata": {},
   "outputs": [],
   "source": [
    "import igl\n",
    "import meshplot as mp\n",
    "import glob\n",
    "import  numpy as np"
   ]
  },
  {
   "cell_type": "code",
   "execution_count": 3,
   "metadata": {},
   "outputs": [
    {
     "data": {
      "application/vnd.jupyter.widget-view+json": {
       "model_id": "f5c45e785b77423e955eb09f0650a9b8",
       "version_major": 2,
       "version_minor": 0
      },
      "text/plain": [
       "Renderer(camera=PerspectiveCamera(children=(DirectionalLight(color='white', intensity=0.6, position=(0.0435180…"
      ]
     },
     "metadata": {},
     "output_type": "display_data"
    },
    {
     "name": "stdout",
     "output_type": "stream",
     "text": [
      "Plot saved to file data/part1/minion/minion_00010000.html.\n"
     ]
    }
   ],
   "source": [
    "def make_html(fname):\n",
    "    v,f = igl.read_triangle_mesh(fname)\n",
    "    gray =np.full(f.shape, 0.51)\n",
    "    mp.plot(v,f,c=gray).save('data/part1/minion/'+fname.split('/')[-1].split('.')[0] +'.html')\n",
    "\n",
    "files =[\n",
    " 'superman_00010000'] \n",
    " \n",
    "fname = \"data/part1/minion/minion_00010000.ply\"\n",
    "make_html(fname)\n",
    "files = glob.glob('../pcpnet/data/internet_mesh_smooth/*.ply')\n",
    "for file in files:\n",
    "#     # fname = file.split('/')[-1].split('.')[0]\n",
    "    \n",
    "    file  = \"data/temp/\"+file+'.obj'\n",
    "    a = make_html(file)\n",
    "    \n",
    "\n",
    "# for file in files:\n",
    "#     # file = '../pcpnet/data/noisy/'+file.split('/')[-1]\n",
    "#     # print('data/week2/'+file.split('/')[-1].split('.')[0])\n",
    "    \n",
    "#     make_html(file)\n",
    "# files\n",
    "# fname = '../output/meshes_bouncing_mesh_0020_ctg_3.obj'"
   ]
  },
  {
   "cell_type": "code",
   "execution_count": 5,
   "metadata": {},
   "outputs": [
    {
     "name": "stdout",
     "output_type": "stream",
     "text": [
      "<table>\n",
      "<tr>\n",
      "<td><img src=\"data/part5/mitsuba_version_test/roughplastic/0_roughplastic_mitsuba_3_spectrum_nonlinearF_20.png\" alt=\"0_roughplastic_mitsuba_3_spectrum_nonlinearF_20.png\" width=\"400\"><p>0_roughplastic_mitsuba_3_spectrum_nonlinearF_20.png</p> </td>\n",
      "<td><img src=\"data/part5/mitsuba_version_test/roughplastic/0_roughplastic_mitsuba_0_5_spectrum_20_alpha_25.png\" alt=\"0_roughplastic_mitsuba_0_5_spectrum_20_alpha_25.png\" width=\"400\"><p>0_roughplastic_mitsuba_0_5_spectrum_20_alpha_25.png</p> </td>\n",
      "<td><img src=\"data/part5/mitsuba_version_test/roughplastic/0_roughplastic_mitsuba_0_5_spectrum_20_alpha_1.png\" alt=\"0_roughplastic_mitsuba_0_5_spectrum_20_alpha_1.png\" width=\"400\"><p>0_roughplastic_mitsuba_0_5_spectrum_20_alpha_1.png</p> </td>\n",
      "<td><img src=\"data/part5/mitsuba_version_test/roughplastic/0_roughplastic_mitsuba_3_rgb_nonlinear_20.png\" alt=\"0_roughplastic_mitsuba_3_rgb_nonlinear_20.png\" width=\"400\"><p>0_roughplastic_mitsuba_3_rgb_nonlinear_20.png</p> </td>\n",
      "</tr>\n",
      "<tr>\n",
      "<td><img src=\"data/part5/mitsuba_version_test/roughplastic/_roughplastic_mitsuba_3_rgb_20.png\" alt=\"_roughplastic_mitsuba_3_rgb_20.png\" width=\"400\"><p>_roughplastic_mitsuba_3_rgb_20.png</p> </td>\n",
      "</tr>\n",
      "</table>\n"
     ]
    }
   ],
   "source": [
    "import os\n",
    "\n",
    "def generate_html_table(dir_path):\n",
    "    # Get a list of all image files in the directory\n",
    "    img_files = [f for f in os.listdir(dir_path) if os.path.isfile(os.path.join(dir_path, f)) and f.lower().endswith(('.png', '.jpg', '.jpeg', '.gif', '.bmp','.exr'))]\n",
    "    \n",
    "    # Generate the HTML table\n",
    "    table = '<table>\\n'\n",
    "    for i, img_file in enumerate(img_files):\n",
    "        img_name = img_file.split('/')[-1]\n",
    "        if i % 4 == 0:\n",
    "            table += '<tr>\\n'\n",
    "        table += '<td><img src=\"{0}\" alt=\"{1}\" width=\"400\"><p>{2}</p> </td>\\n'.format(os.path.join(dir_path, img_file), img_file,img_name)\n",
    "\n",
    "        if i % 4 == 3:\n",
    "            table += '</tr>\\n'\n",
    "    if len(img_files) % 4 != 0:\n",
    "        table += '</tr>\\n'\n",
    "    table += '</table>'\n",
    "    \n",
    "    return table\n",
    "\n",
    "# Example usage\n",
    "dir_path = 'data/part5/mitsuba_version_test/roughplastic'\n",
    "html_table = generate_html_table(dir_path)\n",
    "print(html_table)\n"
   ]
  },
  {
   "cell_type": "code",
   "execution_count": 8,
   "metadata": {},
   "outputs": [
    {
     "name": "stdout",
     "output_type": "stream",
     "text": [
      "<table>\n",
      "<tr>\n",
      "<td><a href=\"#\" onclick=\"expandImage('data/part5/mitsuba_version_test/diffuse/0_diffuse_mitsuba_3_spectrum_20.png')\"><img src=\"data/part5/mitsuba_version_test/diffuse/0_diffuse_mitsuba_3_spectrum_20.png\"  width=\"400\"></a><p>0_diffuse_mitsuba_3_spectrum_20.png</p></td>\n",
      "<td><a href=\"#\" onclick=\"expandImage('data/part5/mitsuba_version_test/diffuse/0_diffuse_texture_mitsuba_3_rgb_20.png')\"><img src=\"data/part5/mitsuba_version_test/diffuse/0_diffuse_texture_mitsuba_3_rgb_20.png\"  width=\"400\"></a><p>0_diffuse_texture_mitsuba_3_rgb_20.png</p></td>\n",
      "<td><a href=\"#\" onclick=\"expandImage('data/part5/mitsuba_version_test/diffuse/0_diffuse_texture_mitsuba_3_spectrum_20.png')\"><img src=\"data/part5/mitsuba_version_test/diffuse/0_diffuse_texture_mitsuba_3_spectrum_20.png\"  width=\"400\"></a><p>0_diffuse_texture_mitsuba_3_spectrum_20.png</p></td>\n",
      "<td><a href=\"#\" onclick=\"expandImage('data/part5/mitsuba_version_test/diffuse/0_diffuse_mitsuba_0_5_rgb_20.png')\"><img src=\"data/part5/mitsuba_version_test/diffuse/0_diffuse_mitsuba_0_5_rgb_20.png\"  width=\"400\"></a><p>0_diffuse_mitsuba_0_5_rgb_20.png</p></td>\n",
      "</tr>\n",
      "<tr>\n",
      "<td><a href=\"#\" onclick=\"expandImage('data/part5/mitsuba_version_test/diffuse/0_diffuse_mitsuba_3_rgb_20.png')\"><img src=\"data/part5/mitsuba_version_test/diffuse/0_diffuse_mitsuba_3_rgb_20.png\"  width=\"400\"></a><p>0_diffuse_mitsuba_3_rgb_20.png</p></td>\n",
      "<td><a href=\"#\" onclick=\"expandImage('data/part5/mitsuba_version_test/diffuse/0_diffuse_mitsuba_0_5_rgb_20_0_0.png')\"><img src=\"data/part5/mitsuba_version_test/diffuse/0_diffuse_mitsuba_0_5_rgb_20_0_0.png\"  width=\"400\"></a><p>0_diffuse_mitsuba_0_5_rgb_20_0_0.png</p></td>\n",
      "<td><a href=\"#\" onclick=\"expandImage('data/part5/mitsuba_version_test/diffuse/0_diffuse_mitsuba_0_5_spectrum.png')\"><img src=\"data/part5/mitsuba_version_test/diffuse/0_diffuse_mitsuba_0_5_spectrum.png\"  width=\"400\"></a><p>0_diffuse_mitsuba_0_5_spectrum.png</p></td>\n",
      "</tr>\n",
      "</table>\n",
      "\n"
     ]
    }
   ],
   "source": [
    "import os\n",
    "\n",
    "def generate_html_table(dir_path):\n",
    "    # Get a list of all image files in the directory\n",
    "    img_files = [f for f in os.listdir(dir_path) if os.path.isfile(os.path.join(dir_path, f)) and f.lower().endswith(('.png', '.jpg', '.jpeg', '.gif', '.bmp'))]\n",
    "    \n",
    "    # Generate the HTML table\n",
    "    table = '<table>\\n'\n",
    "    for i, img_file in enumerate(img_files):\n",
    "        img_name = img_file.split('/')[-1]\n",
    "        if i % 4 == 0:\n",
    "            table += '<tr>\\n'\n",
    "        table += '<td><a href=\"#\" onclick=\"expandImage(\\'{0}\\')\"><img src=\"{0}\"  width=\"400\"></a><p>{1}</p></td>\\n'.format(os.path.join(dir_path, img_file), img_name)\n",
    "        if i % 4 == 3:\n",
    "            table += '</tr>\\n'\n",
    "    if len(img_files) % 4 != 0:\n",
    "        table += '</tr>\\n'\n",
    "    table += '</table>\\n'\n",
    "\n",
    "    # Generate the JavaScript code\n",
    "    # js_code = '<script>\\nfunction expandImage(imgSrc, imgAlt) {\\nvar overlay = document.createElement(\"div\");\\noverlay.style.position = \"fixed\";\\noverlay.style.top = \"0\";\\noverlay.style.left = \"0\";\\noverlay.style.width = \"100%\";\\noverlay.style.height = \"100%\";\\noverlay.style.backgroundColor = \"rgba(0,0,0,0.7)\";\\noverlay.style.display = \"flex\";\\noverlay.style.justifyContent = \"center\";\\noverlay.style.alignItems = \"center\";\\noverlay.onclick = function() {overlay.parentNode.removeChild(overlay);};\\nvar img = document.createElement(\"img\");\\nimg.src = imgSrc;\\nimg.alt = imgAlt;\\nimg.style.maxWidth = \"90%\";\\nimg.style.maxHeight = \"90%\";\\nimg.onclick = function(e) {e.stopPropagation();};\\noverlay.appendChild(img);\\ndocument.body.appendChild(overlay);\\n}\\n</script>'\n",
    "    \n",
    "    # return table + js_code\n",
    "    return table\n",
    "import os\n",
    "\n",
    "def generate_html_table_mod(dir_path):\n",
    "    # Generate the HTML table header\n",
    "    table = '<table>\\n'\n",
    "\n",
    "    # Loop through all subdirectories and their contents\n",
    "    for sub_dir in os.listdir(dir_path):\n",
    "        sub_dir_path = os.path.join(dir_path, sub_dir)\n",
    "\n",
    "        # Check if the item is a subdirectory\n",
    "        if os.path.isdir(sub_dir_path):\n",
    "            # Add the subdirectory title to the HTML table\n",
    "            table += f'<tr><td colspan=\"4\"><h2>{sub_dir}</h2></td></tr>\\n'\n",
    "\n",
    "            # Get a list of all image files in the subdirectory\n",
    "            img_files = [f for f in os.listdir(sub_dir_path) if os.path.isfile(os.path.join(sub_dir_path, f)) and f.lower().endswith(('.png', '.jpg', '.jpeg', '.gif', '.bmp'))]\n",
    "\n",
    "            # Loop through all images in the subdirectory and add them to the HTML table\n",
    "            for i, img_file in enumerate(img_files):\n",
    "                if i % 4 == 0:\n",
    "                    table += '<tr>\\n'\n",
    "                img_path = os.path.join(sub_dir_path, img_file)\n",
    "                img_label = os.path.splitext(img_file)[0]\n",
    "                table += f'<td><a href=\"#\" onclick=\"expandImage(\\'{img_path}\\', \\'{img_label}\\')\"><img src=\"{img_path}\" alt=\"{img_label}\" width=\"400\"></a></td>\\n'\n",
    "                if i % 4 == 3:\n",
    "                    table += '</tr>\\n'\n",
    "            if len(img_files) % 4 != 0:\n",
    "                table += '</tr>\\n'\n",
    "\n",
    "    # Close the HTML table\n",
    "    table += '</table>\\n'\n",
    "\n",
    "    return table\n",
    "\n",
    "    \n",
    "\n",
    "# Example usage\n",
    "# print(\"<h2>Output</h2>\")\n",
    "dir_path = 'data/part5/mitsuba_version_test/diffuse'\n",
    "html_table = generate_html_table(dir_path)\n",
    "print(html_table)\n",
    "# print(\"<h4>Setup</h4>\")\n",
    "# dir_path = '/Users/gemmechu/Documents/Research/ResearchWeb/3d_reconstruction/data/part2/two_cars_big/setup'\n",
    "# html_table = generate_html_table(dir_path)\n",
    "# print(html_table)\n",
    "# print(\"<h4>IRON Stage1 intermediate output</h4>\")\n",
    "# dir_path = '/Users/gemmechu/Documents/Research/ResearchWeb/3d_reconstruction/data/part2/four_dolls_light1k/output'\n",
    "# html_table = generate_html_table(dir_path)\n",
    "# print(html_table)\n"
   ]
  },
  {
   "cell_type": "code",
   "execution_count": 7,
   "metadata": {},
   "outputs": [
    {
     "name": "stdout",
     "output_type": "stream",
     "text": [
      "['data/part5/mitsuba_version_test/diffuse/0_diffuse_mitsuba_3_spectrum_20.png', 'data/part5/mitsuba_version_test/diffuse/0_diffuse_texture_mitsuba_3_rgb_20.png', 'data/part5/mitsuba_version_test/diffuse/0_diffuse_texture_mitsuba_3_spectrum_20.png', 'data/part5/mitsuba_version_test/diffuse/0_diffuse_mitsuba_0_5_rgb_20.png', 'data/part5/mitsuba_version_test/diffuse/0_diffuse_mitsuba_3_rgb_20.png', 'data/part5/mitsuba_version_test/diffuse/0_diffuse_mitsuba_0_5_rgb_20_0_0.png', 'data/part5/mitsuba_version_test/diffuse/0_diffuse_mitsuba_0_5_spectrum.png', 'data/part5/mitsuba_version_test/roughplastic/0_roughplastic_mitsuba_3_spectrum_nonlinearF_20.png', 'data/part5/mitsuba_version_test/roughplastic/0_roughplastic_mitsuba_0_5_spectrum_20_alpha_25.png', 'data/part5/mitsuba_version_test/roughplastic/0_roughplastic_mitsuba_0_5_spectrum_20_alpha_1.png', 'data/part5/mitsuba_version_test/roughplastic/0_roughplastic_mitsuba_3_rgb_nonlinear_20.png', 'data/part5/mitsuba_version_test/roughplastic/_roughplastic_mitsuba_3_rgb_20.png']\n"
     ]
    }
   ],
   "source": [
    "from bs4 import BeautifulSoup\n",
    "import os\n",
    "\n",
    "html_file = \"/Users/gemmechu/Documents/Research/ResearchWeb/3d_reconstruction/part5.html\"\n",
    "\n",
    "with open(html_file, \"r\") as f:\n",
    "    soup = BeautifulSoup(f, \"html.parser\")\n",
    "\n",
    "image_paths = []\n",
    "for img in soup.find_all(\"img\"):\n",
    "    src = img.get(\"src\")\n",
    "    if src:\n",
    "        image_paths.append(src)\n",
    "        # image_paths.append(os.path.join(os.path.dirname(html_file), src))\n",
    "\n",
    "print(image_paths)\n"
   ]
  },
  {
   "cell_type": "code",
   "execution_count": null,
   "metadata": {},
   "outputs": [],
   "source": []
  }
 ],
 "metadata": {
  "kernelspec": {
   "display_name": "Python 3.9.12 ('base')",
   "language": "python",
   "name": "python3"
  },
  "language_info": {
   "codemirror_mode": {
    "name": "ipython",
    "version": 3
   },
   "file_extension": ".py",
   "mimetype": "text/x-python",
   "name": "python",
   "nbconvert_exporter": "python",
   "pygments_lexer": "ipython3",
   "version": "3.9.12"
  },
  "orig_nbformat": 4,
  "vscode": {
   "interpreter": {
    "hash": "7f079a34d0c7003b0fada8ddfbac0c347cf906c18fdbbe559734525824491b66"
   }
  }
 },
 "nbformat": 4,
 "nbformat_minor": 2
}
